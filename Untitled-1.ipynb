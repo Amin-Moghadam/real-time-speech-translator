{
 "cells": [
  {
   "cell_type": "code",
   "execution_count": 2,
   "id": "2cb0390e",
   "metadata": {},
   "outputs": [],
   "source": [
    "import pyttsx3 as tts"
   ]
  },
  {
   "cell_type": "code",
   "execution_count": 4,
   "id": "9c51257e",
   "metadata": {},
   "outputs": [],
   "source": [
    "engine=tts.init()\n",
    "engine.say(\"Im Amin Moghadam\")\n",
    "engine.runAndWait()"
   ]
  },
  {
   "cell_type": "code",
   "execution_count": 8,
   "id": "c4f00356",
   "metadata": {},
   "outputs": [],
   "source": [
    "voices = engine.getProperty('voices')\n",
    "engine.setProperty('voice', voices[1].id)\n",
    "engine.say(\"Im Amin Moghadam\")\n",
    "engine.runAndWait()"
   ]
  },
  {
   "cell_type": "code",
   "execution_count": 9,
   "id": "cabac64d",
   "metadata": {},
   "outputs": [],
   "source": [
    "engine.setProperty('rate', 125)\n",
    "engine.say(\"Im Amin Moghadam\")\n",
    "engine.runAndWait()"
   ]
  },
  {
   "cell_type": "code",
   "execution_count": null,
   "id": "2a4f259f",
   "metadata": {},
   "outputs": [
    {
     "name": "stdout",
     "output_type": "stream",
     "text": [
      "در حال گوش کردن...\n",
      "در حال پردازش صدا...\n",
      "در حال ترجمه...\n",
      "\n",
      "\n",
      "Persian:  سلام من امین مقدم هستم\n",
      "English:  Hi i am Amin Moghaddam\n"
     ]
    }
   ],
   "source": [
    "from deep_translator import GoogleTranslator\n",
    "import speech_recognition as sr\n",
    "\n",
    "record = sr.Recognizer()\n",
    "\n",
    "print(\"در حال گوش کردن...\")\n",
    "with sr.Microphone() as source:\n",
    "    record.pause_threshold= 1\n",
    "    audio = record.listen(source)\n",
    "\n",
    "print(\"در حال پردازش صدا...\")\n",
    "\n",
    "text = record.recognize_google(audio, language ='fa-IR')\n",
    "\n",
    "\n",
    "print(\"در حال ترجمه...\")\n",
    "\n",
    "en = GoogleTranslator(source=\"auto\", target=\"en\").translate(text)\n",
    "print(\"\")\n",
    "print(\"\")\n",
    "\n",
    "print(\"Persian: \",text)\n",
    "\n",
    "print(\"English: \",en)\n",
    "\n",
    "engine.say(en)\n",
    "engine.runAndWait()\n"
   ]
  }
 ],
 "metadata": {
  "kernelspec": {
   "display_name": "Python 3",
   "language": "python",
   "name": "python3"
  },
  "language_info": {
   "codemirror_mode": {
    "name": "ipython",
    "version": 3
   },
   "file_extension": ".py",
   "mimetype": "text/x-python",
   "name": "python",
   "nbconvert_exporter": "python",
   "pygments_lexer": "ipython3",
   "version": "3.8.8"
  }
 },
 "nbformat": 4,
 "nbformat_minor": 5
}
